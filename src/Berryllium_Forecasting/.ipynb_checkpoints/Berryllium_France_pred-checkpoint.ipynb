{
 "cells": [
  {
   "cell_type": "code",
   "execution_count": 1,
   "metadata": {
    "colab": {},
    "colab_type": "code",
    "id": "lgKUEiC1vuyK"
   },
   "outputs": [],
   "source": [
    "import pandas as pd"
   ]
  },
  {
   "cell_type": "code",
   "execution_count": 2,
   "metadata": {
    "colab": {},
    "colab_type": "code",
    "id": "Nc_ynUF3xGz6"
   },
   "outputs": [],
   "source": [
    "confirmed_cases_url = \"https://raw.githubusercontent.com/CSSEGISandData/COVID-19/master/csse_covid_19_data/csse_covid_19_time_series/time_series_covid19_confirmed_global.csv\"\n",
    " \n",
    "# Dataset is now stored in a Pandas Dataframe\n",
    "\n",
    "recovered_cases_url = \"https://raw.githubusercontent.com/CSSEGISandData/COVID-19/master/csse_covid_19_data/csse_covid_19_time_series/time_series_covid19_recovered_global.csv\"\n",
    "\n",
    "# Dataset is now stored in a Pandas Dataframe\n",
    "\n",
    "death_cases_url = \"https://raw.githubusercontent.com/CSSEGISandData/COVID-19/master/csse_covid_19_data/csse_covid_19_time_series/time_series_covid19_deaths_global.csv\"\n",
    " \n",
    "# Dataset is now stored in a Pandas Dataframe\n"
   ]
  },
  {
   "cell_type": "code",
   "execution_count": 3,
   "metadata": {
    "colab": {},
    "colab_type": "code",
    "id": "K0qMP3-Ky_AU"
   },
   "outputs": [],
   "source": [
    "def get_n_melt_data(data_url,case_type):\n",
    "    df = pd.read_csv(data_url)\n",
    "    melted_df = df.melt(id_vars=['Province/State', 'Country/Region', 'Lat', 'Long'])\n",
    "    melted_df.rename(columns={\"variable\":\"Date\",\"value\":case_type},inplace=True)\n",
    "    return melted_df\n",
    "\n",
    "def merge_data(confirm_df,recovered_df,deaths_df):\n",
    "\tnew_df = confirm_df.join(recovered_df['Recovered']).join(deaths_df['Deaths'])\n",
    "\treturn new_df"
   ]
  },
  {
   "cell_type": "code",
   "execution_count": 4,
   "metadata": {
    "colab": {},
    "colab_type": "code",
    "id": "eJ1fnlEoz0yZ"
   },
   "outputs": [],
   "source": [
    "confirm_df = get_n_melt_data(confirmed_cases_url,\"Confirmed\")\n",
    "recovered_df = get_n_melt_data(recovered_cases_url,\"Recovered\")\n",
    "deaths_df = get_n_melt_data(death_cases_url,\"Deaths\")"
   ]
  },
  {
   "cell_type": "code",
   "execution_count": 5,
   "metadata": {
    "colab": {
     "base_uri": "https://localhost:8080/",
     "height": 204
    },
    "colab_type": "code",
    "id": "CfVBJC8h0YQh",
    "outputId": "f7097c0b-aedb-4e42-a284-45555a8618c2"
   },
   "outputs": [
    {
     "data": {
      "text/html": [
       "<div>\n",
       "<style scoped>\n",
       "    .dataframe tbody tr th:only-of-type {\n",
       "        vertical-align: middle;\n",
       "    }\n",
       "\n",
       "    .dataframe tbody tr th {\n",
       "        vertical-align: top;\n",
       "    }\n",
       "\n",
       "    .dataframe thead th {\n",
       "        text-align: right;\n",
       "    }\n",
       "</style>\n",
       "<table border=\"1\" class=\"dataframe\">\n",
       "  <thead>\n",
       "    <tr style=\"text-align: right;\">\n",
       "      <th></th>\n",
       "      <th>Province/State</th>\n",
       "      <th>Country/Region</th>\n",
       "      <th>Lat</th>\n",
       "      <th>Long</th>\n",
       "      <th>Date</th>\n",
       "      <th>Confirmed</th>\n",
       "    </tr>\n",
       "  </thead>\n",
       "  <tbody>\n",
       "    <tr>\n",
       "      <th>152050</th>\n",
       "      <td>NaN</td>\n",
       "      <td>Vietnam</td>\n",
       "      <td>14.058324</td>\n",
       "      <td>108.277199</td>\n",
       "      <td>7/19/21</td>\n",
       "      <td>60180</td>\n",
       "    </tr>\n",
       "    <tr>\n",
       "      <th>152051</th>\n",
       "      <td>NaN</td>\n",
       "      <td>West Bank and Gaza</td>\n",
       "      <td>31.952200</td>\n",
       "      <td>35.233200</td>\n",
       "      <td>7/19/21</td>\n",
       "      <td>315761</td>\n",
       "    </tr>\n",
       "    <tr>\n",
       "      <th>152052</th>\n",
       "      <td>NaN</td>\n",
       "      <td>Yemen</td>\n",
       "      <td>15.552727</td>\n",
       "      <td>48.516388</td>\n",
       "      <td>7/19/21</td>\n",
       "      <td>6987</td>\n",
       "    </tr>\n",
       "    <tr>\n",
       "      <th>152053</th>\n",
       "      <td>NaN</td>\n",
       "      <td>Zambia</td>\n",
       "      <td>-13.133897</td>\n",
       "      <td>27.849332</td>\n",
       "      <td>7/19/21</td>\n",
       "      <td>186279</td>\n",
       "    </tr>\n",
       "    <tr>\n",
       "      <th>152054</th>\n",
       "      <td>NaN</td>\n",
       "      <td>Zimbabwe</td>\n",
       "      <td>-19.015438</td>\n",
       "      <td>29.154857</td>\n",
       "      <td>7/19/21</td>\n",
       "      <td>85732</td>\n",
       "    </tr>\n",
       "  </tbody>\n",
       "</table>\n",
       "</div>"
      ],
      "text/plain": [
       "       Province/State      Country/Region        Lat        Long     Date  \\\n",
       "152050            NaN             Vietnam  14.058324  108.277199  7/19/21   \n",
       "152051            NaN  West Bank and Gaza  31.952200   35.233200  7/19/21   \n",
       "152052            NaN               Yemen  15.552727   48.516388  7/19/21   \n",
       "152053            NaN              Zambia -13.133897   27.849332  7/19/21   \n",
       "152054            NaN            Zimbabwe -19.015438   29.154857  7/19/21   \n",
       "\n",
       "        Confirmed  \n",
       "152050      60180  \n",
       "152051     315761  \n",
       "152052       6987  \n",
       "152053     186279  \n",
       "152054      85732  "
      ]
     },
     "execution_count": 5,
     "metadata": {},
     "output_type": "execute_result"
    }
   ],
   "source": [
    "confirm_df.tail()"
   ]
  },
  {
   "cell_type": "code",
   "execution_count": 6,
   "metadata": {
    "colab": {},
    "colab_type": "code",
    "id": "cMj6sqM40beA"
   },
   "outputs": [],
   "source": [
    "df = merge_data(confirm_df,recovered_df,deaths_df)"
   ]
  },
  {
   "cell_type": "code",
   "execution_count": 7,
   "metadata": {
    "colab": {
     "base_uri": "https://localhost:8080/",
     "height": 204
    },
    "colab_type": "code",
    "id": "v8TjI7o40eFG",
    "outputId": "2c2ea43c-cca9-405a-b7be-7066f6dbb29d"
   },
   "outputs": [
    {
     "data": {
      "text/html": [
       "<div>\n",
       "<style scoped>\n",
       "    .dataframe tbody tr th:only-of-type {\n",
       "        vertical-align: middle;\n",
       "    }\n",
       "\n",
       "    .dataframe tbody tr th {\n",
       "        vertical-align: top;\n",
       "    }\n",
       "\n",
       "    .dataframe thead th {\n",
       "        text-align: right;\n",
       "    }\n",
       "</style>\n",
       "<table border=\"1\" class=\"dataframe\">\n",
       "  <thead>\n",
       "    <tr style=\"text-align: right;\">\n",
       "      <th></th>\n",
       "      <th>Province/State</th>\n",
       "      <th>Country/Region</th>\n",
       "      <th>Lat</th>\n",
       "      <th>Long</th>\n",
       "      <th>Date</th>\n",
       "      <th>Confirmed</th>\n",
       "      <th>Recovered</th>\n",
       "      <th>Deaths</th>\n",
       "    </tr>\n",
       "  </thead>\n",
       "  <tbody>\n",
       "    <tr>\n",
       "      <th>0</th>\n",
       "      <td>NaN</td>\n",
       "      <td>Afghanistan</td>\n",
       "      <td>33.93911</td>\n",
       "      <td>67.709953</td>\n",
       "      <td>1/22/20</td>\n",
       "      <td>0</td>\n",
       "      <td>0.0</td>\n",
       "      <td>0</td>\n",
       "    </tr>\n",
       "    <tr>\n",
       "      <th>1</th>\n",
       "      <td>NaN</td>\n",
       "      <td>Albania</td>\n",
       "      <td>41.15330</td>\n",
       "      <td>20.168300</td>\n",
       "      <td>1/22/20</td>\n",
       "      <td>0</td>\n",
       "      <td>0.0</td>\n",
       "      <td>0</td>\n",
       "    </tr>\n",
       "    <tr>\n",
       "      <th>2</th>\n",
       "      <td>NaN</td>\n",
       "      <td>Algeria</td>\n",
       "      <td>28.03390</td>\n",
       "      <td>1.659600</td>\n",
       "      <td>1/22/20</td>\n",
       "      <td>0</td>\n",
       "      <td>0.0</td>\n",
       "      <td>0</td>\n",
       "    </tr>\n",
       "    <tr>\n",
       "      <th>3</th>\n",
       "      <td>NaN</td>\n",
       "      <td>Andorra</td>\n",
       "      <td>42.50630</td>\n",
       "      <td>1.521800</td>\n",
       "      <td>1/22/20</td>\n",
       "      <td>0</td>\n",
       "      <td>0.0</td>\n",
       "      <td>0</td>\n",
       "    </tr>\n",
       "    <tr>\n",
       "      <th>4</th>\n",
       "      <td>NaN</td>\n",
       "      <td>Angola</td>\n",
       "      <td>-11.20270</td>\n",
       "      <td>17.873900</td>\n",
       "      <td>1/22/20</td>\n",
       "      <td>0</td>\n",
       "      <td>0.0</td>\n",
       "      <td>0</td>\n",
       "    </tr>\n",
       "  </tbody>\n",
       "</table>\n",
       "</div>"
      ],
      "text/plain": [
       "  Province/State Country/Region       Lat       Long     Date  Confirmed  \\\n",
       "0            NaN    Afghanistan  33.93911  67.709953  1/22/20          0   \n",
       "1            NaN        Albania  41.15330  20.168300  1/22/20          0   \n",
       "2            NaN        Algeria  28.03390   1.659600  1/22/20          0   \n",
       "3            NaN        Andorra  42.50630   1.521800  1/22/20          0   \n",
       "4            NaN         Angola -11.20270  17.873900  1/22/20          0   \n",
       "\n",
       "   Recovered  Deaths  \n",
       "0        0.0       0  \n",
       "1        0.0       0  \n",
       "2        0.0       0  \n",
       "3        0.0       0  \n",
       "4        0.0       0  "
      ]
     },
     "execution_count": 7,
     "metadata": {},
     "output_type": "execute_result"
    }
   ],
   "source": [
    "df.head()"
   ]
  },
  {
   "cell_type": "code",
   "execution_count": 8,
   "metadata": {
    "colab": {},
    "colab_type": "code",
    "id": "v9TzP4aR2nnw"
   },
   "outputs": [],
   "source": [
    "df = df[['Country/Region','Date','Confirmed','Recovered','Deaths']].loc[df['Country/Region'] == 'France']\n"
   ]
  },
  {
   "cell_type": "code",
   "execution_count": 9,
   "metadata": {
    "colab": {
     "base_uri": "https://localhost:8080/",
     "height": 204
    },
    "colab_type": "code",
    "id": "7UWWrZRxMy-D",
    "outputId": "6dbe39b8-85d0-43ef-9dc3-c8fb0d226529"
   },
   "outputs": [
    {
     "data": {
      "text/html": [
       "<div>\n",
       "<style scoped>\n",
       "    .dataframe tbody tr th:only-of-type {\n",
       "        vertical-align: middle;\n",
       "    }\n",
       "\n",
       "    .dataframe tbody tr th {\n",
       "        vertical-align: top;\n",
       "    }\n",
       "\n",
       "    .dataframe thead th {\n",
       "        text-align: right;\n",
       "    }\n",
       "</style>\n",
       "<table border=\"1\" class=\"dataframe\">\n",
       "  <thead>\n",
       "    <tr style=\"text-align: right;\">\n",
       "      <th></th>\n",
       "      <th>Country/Region</th>\n",
       "      <th>Date</th>\n",
       "      <th>Confirmed</th>\n",
       "      <th>Recovered</th>\n",
       "      <th>Deaths</th>\n",
       "    </tr>\n",
       "  </thead>\n",
       "  <tbody>\n",
       "    <tr>\n",
       "      <th>151902</th>\n",
       "      <td>France</td>\n",
       "      <td>7/19/21</td>\n",
       "      <td>1005</td>\n",
       "      <td>NaN</td>\n",
       "      <td>1</td>\n",
       "    </tr>\n",
       "    <tr>\n",
       "      <th>151903</th>\n",
       "      <td>France</td>\n",
       "      <td>7/19/21</td>\n",
       "      <td>26</td>\n",
       "      <td>NaN</td>\n",
       "      <td>0</td>\n",
       "    </tr>\n",
       "    <tr>\n",
       "      <th>151904</th>\n",
       "      <td>France</td>\n",
       "      <td>7/19/21</td>\n",
       "      <td>2433</td>\n",
       "      <td>NaN</td>\n",
       "      <td>38</td>\n",
       "    </tr>\n",
       "    <tr>\n",
       "      <th>151905</th>\n",
       "      <td>France</td>\n",
       "      <td>7/19/21</td>\n",
       "      <td>445</td>\n",
       "      <td>NaN</td>\n",
       "      <td>7</td>\n",
       "    </tr>\n",
       "    <tr>\n",
       "      <th>151906</th>\n",
       "      <td>France</td>\n",
       "      <td>7/19/21</td>\n",
       "      <td>5796453</td>\n",
       "      <td>NaN</td>\n",
       "      <td>110519</td>\n",
       "    </tr>\n",
       "  </tbody>\n",
       "</table>\n",
       "</div>"
      ],
      "text/plain": [
       "       Country/Region     Date  Confirmed  Recovered  Deaths\n",
       "151902         France  7/19/21       1005        NaN       1\n",
       "151903         France  7/19/21         26        NaN       0\n",
       "151904         France  7/19/21       2433        NaN      38\n",
       "151905         France  7/19/21        445        NaN       7\n",
       "151906         France  7/19/21    5796453        NaN  110519"
      ]
     },
     "execution_count": 9,
     "metadata": {},
     "output_type": "execute_result"
    }
   ],
   "source": [
    "df.tail()"
   ]
  },
  {
   "cell_type": "code",
   "execution_count": 10,
   "metadata": {
    "colab": {},
    "colab_type": "code",
    "id": "Ax0Eef0kAqca"
   },
   "outputs": [],
   "source": [
    "df = df.groupby(\"Date\")[['Confirmed','Recovered', 'Deaths']].sum()"
   ]
  },
  {
   "cell_type": "code",
   "execution_count": 11,
   "metadata": {
    "colab": {
     "base_uri": "https://localhost:8080/",
     "height": 235
    },
    "colab_type": "code",
    "id": "8FtZa_Sf25wV",
    "outputId": "625e5cfb-f231-49d1-b679-725c70109b35"
   },
   "outputs": [
    {
     "data": {
      "text/html": [
       "<div>\n",
       "<style scoped>\n",
       "    .dataframe tbody tr th:only-of-type {\n",
       "        vertical-align: middle;\n",
       "    }\n",
       "\n",
       "    .dataframe tbody tr th {\n",
       "        vertical-align: top;\n",
       "    }\n",
       "\n",
       "    .dataframe thead th {\n",
       "        text-align: right;\n",
       "    }\n",
       "</style>\n",
       "<table border=\"1\" class=\"dataframe\">\n",
       "  <thead>\n",
       "    <tr style=\"text-align: right;\">\n",
       "      <th></th>\n",
       "      <th>Confirmed</th>\n",
       "      <th>Recovered</th>\n",
       "      <th>Deaths</th>\n",
       "    </tr>\n",
       "    <tr>\n",
       "      <th>Date</th>\n",
       "      <th></th>\n",
       "      <th></th>\n",
       "      <th></th>\n",
       "    </tr>\n",
       "  </thead>\n",
       "  <tbody>\n",
       "    <tr>\n",
       "      <th>9/5/20</th>\n",
       "      <td>357927</td>\n",
       "      <td>333056.0</td>\n",
       "      <td>30708</td>\n",
       "    </tr>\n",
       "    <tr>\n",
       "      <th>9/6/20</th>\n",
       "      <td>364943</td>\n",
       "      <td>93701.0</td>\n",
       "      <td>30712</td>\n",
       "    </tr>\n",
       "    <tr>\n",
       "      <th>9/7/20</th>\n",
       "      <td>369209</td>\n",
       "      <td>4695714.0</td>\n",
       "      <td>30735</td>\n",
       "    </tr>\n",
       "    <tr>\n",
       "      <th>9/8/20</th>\n",
       "      <td>375947</td>\n",
       "      <td>732465.0</td>\n",
       "      <td>30773</td>\n",
       "    </tr>\n",
       "    <tr>\n",
       "      <th>9/9/20</th>\n",
       "      <td>384566</td>\n",
       "      <td>66643.0</td>\n",
       "      <td>30805</td>\n",
       "    </tr>\n",
       "  </tbody>\n",
       "</table>\n",
       "</div>"
      ],
      "text/plain": [
       "        Confirmed  Recovered  Deaths\n",
       "Date                                \n",
       "9/5/20     357927   333056.0   30708\n",
       "9/6/20     364943    93701.0   30712\n",
       "9/7/20     369209  4695714.0   30735\n",
       "9/8/20     375947   732465.0   30773\n",
       "9/9/20     384566    66643.0   30805"
      ]
     },
     "execution_count": 11,
     "metadata": {},
     "output_type": "execute_result"
    }
   ],
   "source": [
    "df.tail()"
   ]
  },
  {
   "cell_type": "code",
   "execution_count": 12,
   "metadata": {
    "colab": {
     "base_uri": "https://localhost:8080/",
     "height": 235
    },
    "colab_type": "code",
    "id": "JfG8sqDkLmz6",
    "outputId": "c093449e-d424-403f-9c23-7133f3b56234"
   },
   "outputs": [
    {
     "data": {
      "text/html": [
       "<div>\n",
       "<style scoped>\n",
       "    .dataframe tbody tr th:only-of-type {\n",
       "        vertical-align: middle;\n",
       "    }\n",
       "\n",
       "    .dataframe tbody tr th {\n",
       "        vertical-align: top;\n",
       "    }\n",
       "\n",
       "    .dataframe thead th {\n",
       "        text-align: right;\n",
       "    }\n",
       "</style>\n",
       "<table border=\"1\" class=\"dataframe\">\n",
       "  <thead>\n",
       "    <tr style=\"text-align: right;\">\n",
       "      <th></th>\n",
       "      <th>Confirmed</th>\n",
       "      <th>Recovered</th>\n",
       "      <th>Deaths</th>\n",
       "    </tr>\n",
       "    <tr>\n",
       "      <th>Date</th>\n",
       "      <th></th>\n",
       "      <th></th>\n",
       "      <th></th>\n",
       "    </tr>\n",
       "  </thead>\n",
       "  <tbody>\n",
       "    <tr>\n",
       "      <th>9/5/20</th>\n",
       "      <td>357927</td>\n",
       "      <td>333056.0</td>\n",
       "      <td>30708</td>\n",
       "    </tr>\n",
       "    <tr>\n",
       "      <th>9/6/20</th>\n",
       "      <td>364943</td>\n",
       "      <td>93701.0</td>\n",
       "      <td>30712</td>\n",
       "    </tr>\n",
       "    <tr>\n",
       "      <th>9/7/20</th>\n",
       "      <td>369209</td>\n",
       "      <td>4695714.0</td>\n",
       "      <td>30735</td>\n",
       "    </tr>\n",
       "    <tr>\n",
       "      <th>9/8/20</th>\n",
       "      <td>375947</td>\n",
       "      <td>732465.0</td>\n",
       "      <td>30773</td>\n",
       "    </tr>\n",
       "    <tr>\n",
       "      <th>9/9/20</th>\n",
       "      <td>384566</td>\n",
       "      <td>66643.0</td>\n",
       "      <td>30805</td>\n",
       "    </tr>\n",
       "  </tbody>\n",
       "</table>\n",
       "</div>"
      ],
      "text/plain": [
       "        Confirmed  Recovered  Deaths\n",
       "Date                                \n",
       "9/5/20     357927   333056.0   30708\n",
       "9/6/20     364943    93701.0   30712\n",
       "9/7/20     369209  4695714.0   30735\n",
       "9/8/20     375947   732465.0   30773\n",
       "9/9/20     384566    66643.0   30805"
      ]
     },
     "execution_count": 12,
     "metadata": {},
     "output_type": "execute_result"
    }
   ],
   "source": [
    "df_per_day = df.groupby(\"Date\")[['Confirmed','Recovered', 'Deaths']].sum()\n",
    "df_per_day.tail()"
   ]
  },
  {
   "cell_type": "code",
   "execution_count": 13,
   "metadata": {
    "colab": {
     "base_uri": "https://localhost:8080/",
     "height": 351
    },
    "colab_type": "code",
    "id": "B5GYNUPFC5DD",
    "outputId": "ca2e9b96-f9f7-4efa-c361-69ade8980b6e"
   },
   "outputs": [
    {
     "data": {
      "text/plain": [
       "<AxesSubplot:xlabel='Date'>"
      ]
     },
     "execution_count": 13,
     "metadata": {},
     "output_type": "execute_result"
    },
    {
     "data": {
      "image/png": "[encoded data removed]",
      "text/plain": [
       "<Figure size 1440x360 with 1 Axes>"
      ]
     },
     "metadata": {
      "needs_background": "light"
     },
     "output_type": "display_data"
    }
   ],
   "source": [
    "df_per_day.plot(kind='line',figsize=(20,5))\n"
   ]
  },
  {
   "cell_type": "code",
   "execution_count": 14,
   "metadata": {
    "colab": {},
    "colab_type": "code",
    "id": "why4yUX7DZDq"
   },
   "outputs": [],
   "source": [
    "#Facebook Forecasting Library\n",
    "import fbprophet"
   ]
  },
  {
   "cell_type": "code",
   "execution_count": 15,
   "metadata": {
    "colab": {},
    "colab_type": "code",
    "id": "OGOBC_eqDb-A"
   },
   "outputs": [],
   "source": [
    "# Model Initialize\n",
    "from fbprophet import Prophet\n",
    "m = Prophet()"
   ]
  },
  {
   "cell_type": "code",
   "execution_count": 16,
   "metadata": {
    "colab": {
     "base_uri": "https://localhost:8080/",
     "height": 34
    },
    "colab_type": "code",
    "id": "_JEIPzDQDkEa",
    "outputId": "e054f998-09de-4c0d-9c4f-6ceedc2e27dd"
   },
   "outputs": [
    {
     "data": {
      "text/plain": [
       "<fbprophet.forecaster.Prophet at 0x7fefdd7fc6a0>"
      ]
     },
     "execution_count": 16,
     "metadata": {},
     "output_type": "execute_result"
    }
   ],
   "source": [
    "m.add_seasonality(name=\"monthly\",period=30.5,fourier_order=5)"
   ]
  },
  {
   "cell_type": "code",
   "execution_count": 17,
   "metadata": {
    "colab": {
     "base_uri": "https://localhost:8080/",
     "height": 450
    },
    "colab_type": "code",
    "id": "jty4L77IDn0b",
    "outputId": "35a9c535-b710-434d-cf52-697d2415c084"
   },
   "outputs": [
    {
     "data": {
      "text/html": [
       "<div>\n",
       "<style scoped>\n",
       "    .dataframe tbody tr th:only-of-type {\n",
       "        vertical-align: middle;\n",
       "    }\n",
       "\n",
       "    .dataframe tbody tr th {\n",
       "        vertical-align: top;\n",
       "    }\n",
       "\n",
       "    .dataframe thead th {\n",
       "        text-align: right;\n",
       "    }\n",
       "</style>\n",
       "<table border=\"1\" class=\"dataframe\">\n",
       "  <thead>\n",
       "    <tr style=\"text-align: right;\">\n",
       "      <th></th>\n",
       "      <th>Confirmed</th>\n",
       "      <th>Recovered</th>\n",
       "      <th>Deaths</th>\n",
       "    </tr>\n",
       "    <tr>\n",
       "      <th>Date</th>\n",
       "      <th></th>\n",
       "      <th></th>\n",
       "      <th></th>\n",
       "    </tr>\n",
       "  </thead>\n",
       "  <tbody>\n",
       "    <tr>\n",
       "      <th>1/1/21</th>\n",
       "      <td>2697014</td>\n",
       "      <td>1424070.0</td>\n",
       "      <td>64892</td>\n",
       "    </tr>\n",
       "    <tr>\n",
       "      <th>1/10/21</th>\n",
       "      <td>2840864</td>\n",
       "      <td>571056.0</td>\n",
       "      <td>67885</td>\n",
       "    </tr>\n",
       "    <tr>\n",
       "      <th>1/11/21</th>\n",
       "      <td>2844680</td>\n",
       "      <td>2122909.0</td>\n",
       "      <td>68197</td>\n",
       "    </tr>\n",
       "    <tr>\n",
       "      <th>1/12/21</th>\n",
       "      <td>2864360</td>\n",
       "      <td>349959.0</td>\n",
       "      <td>68939</td>\n",
       "    </tr>\n",
       "    <tr>\n",
       "      <th>1/13/21</th>\n",
       "      <td>2888292</td>\n",
       "      <td>7629357.0</td>\n",
       "      <td>69168</td>\n",
       "    </tr>\n",
       "    <tr>\n",
       "      <th>...</th>\n",
       "      <td>...</td>\n",
       "      <td>...</td>\n",
       "      <td>...</td>\n",
       "    </tr>\n",
       "    <tr>\n",
       "      <th>9/5/20</th>\n",
       "      <td>357927</td>\n",
       "      <td>333056.0</td>\n",
       "      <td>30708</td>\n",
       "    </tr>\n",
       "    <tr>\n",
       "      <th>9/6/20</th>\n",
       "      <td>364943</td>\n",
       "      <td>93701.0</td>\n",
       "      <td>30712</td>\n",
       "    </tr>\n",
       "    <tr>\n",
       "      <th>9/7/20</th>\n",
       "      <td>369209</td>\n",
       "      <td>4695714.0</td>\n",
       "      <td>30735</td>\n",
       "    </tr>\n",
       "    <tr>\n",
       "      <th>9/8/20</th>\n",
       "      <td>375947</td>\n",
       "      <td>732465.0</td>\n",
       "      <td>30773</td>\n",
       "    </tr>\n",
       "    <tr>\n",
       "      <th>9/9/20</th>\n",
       "      <td>384566</td>\n",
       "      <td>66643.0</td>\n",
       "      <td>30805</td>\n",
       "    </tr>\n",
       "  </tbody>\n",
       "</table>\n",
       "<p>545 rows × 3 columns</p>\n",
       "</div>"
      ],
      "text/plain": [
       "         Confirmed  Recovered  Deaths\n",
       "Date                                 \n",
       "1/1/21     2697014  1424070.0   64892\n",
       "1/10/21    2840864   571056.0   67885\n",
       "1/11/21    2844680  2122909.0   68197\n",
       "1/12/21    2864360   349959.0   68939\n",
       "1/13/21    2888292  7629357.0   69168\n",
       "...            ...        ...     ...\n",
       "9/5/20      357927   333056.0   30708\n",
       "9/6/20      364943    93701.0   30712\n",
       "9/7/20      369209  4695714.0   30735\n",
       "9/8/20      375947   732465.0   30773\n",
       "9/9/20      384566    66643.0   30805\n",
       "\n",
       "[545 rows x 3 columns]"
      ]
     },
     "execution_count": 17,
     "metadata": {},
     "output_type": "execute_result"
    }
   ],
   "source": [
    "# Split Dataset\n",
    "df"
   ]
  },
  {
   "cell_type": "code",
   "execution_count": 18,
   "metadata": {
    "colab": {},
    "colab_type": "code",
    "id": "jBuYFXyzDqP8"
   },
   "outputs": [],
   "source": [
    "France_cases = df.reset_index()"
   ]
  },
  {
   "cell_type": "code",
   "execution_count": 19,
   "metadata": {
    "colab": {
     "base_uri": "https://localhost:8080/",
     "height": 204
    },
    "colab_type": "code",
    "id": "ezKshwxrDzkq",
    "outputId": "846cf566-e58b-4b2d-e264-099cd78b45a2"
   },
   "outputs": [
    {
     "data": {
      "text/html": [
       "<div>\n",
       "<style scoped>\n",
       "    .dataframe tbody tr th:only-of-type {\n",
       "        vertical-align: middle;\n",
       "    }\n",
       "\n",
       "    .dataframe tbody tr th {\n",
       "        vertical-align: top;\n",
       "    }\n",
       "\n",
       "    .dataframe thead th {\n",
       "        text-align: right;\n",
       "    }\n",
       "</style>\n",
       "<table border=\"1\" class=\"dataframe\">\n",
       "  <thead>\n",
       "    <tr style=\"text-align: right;\">\n",
       "      <th></th>\n",
       "      <th>Date</th>\n",
       "      <th>Confirmed</th>\n",
       "      <th>Recovered</th>\n",
       "      <th>Deaths</th>\n",
       "    </tr>\n",
       "  </thead>\n",
       "  <tbody>\n",
       "    <tr>\n",
       "      <th>0</th>\n",
       "      <td>1/1/21</td>\n",
       "      <td>2697014</td>\n",
       "      <td>1424070.0</td>\n",
       "      <td>64892</td>\n",
       "    </tr>\n",
       "    <tr>\n",
       "      <th>1</th>\n",
       "      <td>1/10/21</td>\n",
       "      <td>2840864</td>\n",
       "      <td>571056.0</td>\n",
       "      <td>67885</td>\n",
       "    </tr>\n",
       "    <tr>\n",
       "      <th>2</th>\n",
       "      <td>1/11/21</td>\n",
       "      <td>2844680</td>\n",
       "      <td>2122909.0</td>\n",
       "      <td>68197</td>\n",
       "    </tr>\n",
       "    <tr>\n",
       "      <th>3</th>\n",
       "      <td>1/12/21</td>\n",
       "      <td>2864360</td>\n",
       "      <td>349959.0</td>\n",
       "      <td>68939</td>\n",
       "    </tr>\n",
       "    <tr>\n",
       "      <th>4</th>\n",
       "      <td>1/13/21</td>\n",
       "      <td>2888292</td>\n",
       "      <td>7629357.0</td>\n",
       "      <td>69168</td>\n",
       "    </tr>\n",
       "  </tbody>\n",
       "</table>\n",
       "</div>"
      ],
      "text/plain": [
       "      Date  Confirmed  Recovered  Deaths\n",
       "0   1/1/21    2697014  1424070.0   64892\n",
       "1  1/10/21    2840864   571056.0   67885\n",
       "2  1/11/21    2844680  2122909.0   68197\n",
       "3  1/12/21    2864360   349959.0   68939\n",
       "4  1/13/21    2888292  7629357.0   69168"
      ]
     },
     "execution_count": 19,
     "metadata": {},
     "output_type": "execute_result"
    }
   ],
   "source": [
    "France_cases.head()"
   ]
  },
  {
   "cell_type": "code",
   "execution_count": 20,
   "metadata": {
    "colab": {
     "base_uri": "https://localhost:8080/",
     "height": 204
    },
    "colab_type": "code",
    "id": "F-Hr2bOsHgpb",
    "outputId": "052668e2-4341-4b85-f473-52a2a2c0af7a"
   },
   "outputs": [
    {
     "data": {
      "text/html": [
       "<div>\n",
       "<style scoped>\n",
       "    .dataframe tbody tr th:only-of-type {\n",
       "        vertical-align: middle;\n",
       "    }\n",
       "\n",
       "    .dataframe tbody tr th {\n",
       "        vertical-align: top;\n",
       "    }\n",
       "\n",
       "    .dataframe thead th {\n",
       "        text-align: right;\n",
       "    }\n",
       "</style>\n",
       "<table border=\"1\" class=\"dataframe\">\n",
       "  <thead>\n",
       "    <tr style=\"text-align: right;\">\n",
       "      <th></th>\n",
       "      <th>Date</th>\n",
       "      <th>Confirmed</th>\n",
       "      <th>Recovered</th>\n",
       "      <th>Deaths</th>\n",
       "    </tr>\n",
       "  </thead>\n",
       "  <tbody>\n",
       "    <tr>\n",
       "      <th>540</th>\n",
       "      <td>9/5/20</td>\n",
       "      <td>357927</td>\n",
       "      <td>333056.0</td>\n",
       "      <td>30708</td>\n",
       "    </tr>\n",
       "    <tr>\n",
       "      <th>541</th>\n",
       "      <td>9/6/20</td>\n",
       "      <td>364943</td>\n",
       "      <td>93701.0</td>\n",
       "      <td>30712</td>\n",
       "    </tr>\n",
       "    <tr>\n",
       "      <th>542</th>\n",
       "      <td>9/7/20</td>\n",
       "      <td>369209</td>\n",
       "      <td>4695714.0</td>\n",
       "      <td>30735</td>\n",
       "    </tr>\n",
       "    <tr>\n",
       "      <th>543</th>\n",
       "      <td>9/8/20</td>\n",
       "      <td>375947</td>\n",
       "      <td>732465.0</td>\n",
       "      <td>30773</td>\n",
       "    </tr>\n",
       "    <tr>\n",
       "      <th>544</th>\n",
       "      <td>9/9/20</td>\n",
       "      <td>384566</td>\n",
       "      <td>66643.0</td>\n",
       "      <td>30805</td>\n",
       "    </tr>\n",
       "  </tbody>\n",
       "</table>\n",
       "</div>"
      ],
      "text/plain": [
       "       Date  Confirmed  Recovered  Deaths\n",
       "540  9/5/20     357927   333056.0   30708\n",
       "541  9/6/20     364943    93701.0   30712\n",
       "542  9/7/20     369209  4695714.0   30735\n",
       "543  9/8/20     375947   732465.0   30773\n",
       "544  9/9/20     384566    66643.0   30805"
      ]
     },
     "execution_count": 20,
     "metadata": {},
     "output_type": "execute_result"
    }
   ],
   "source": [
    "France_cases.tail()"
   ]
  },
  {
   "cell_type": "code",
   "execution_count": 21,
   "metadata": {
    "colab": {},
    "colab_type": "code",
    "id": "ehrgf6SBD3Kb"
   },
   "outputs": [],
   "source": [
    "confirmed_cases = France_cases[[\"Date\",\"Confirmed\"]]\n",
    "recovered_cases = France_cases[[\"Date\",\"Recovered\"]]"
   ]
  },
  {
   "cell_type": "code",
   "execution_count": 22,
   "metadata": {
    "colab": {
     "base_uri": "https://localhost:8080/",
     "height": 34
    },
    "colab_type": "code",
    "id": "59ps9oaWD9e2",
    "outputId": "4c841c41-6709-4d7f-871a-ed2622dbf21f"
   },
   "outputs": [
    {
     "data": {
      "text/plain": [
       "(545, 2)"
      ]
     },
     "execution_count": 22,
     "metadata": {},
     "output_type": "execute_result"
    }
   ],
   "source": [
    "confirmed_cases.shape"
   ]
  },
  {
   "cell_type": "code",
   "execution_count": 23,
   "metadata": {
    "colab": {
     "base_uri": "https://localhost:8080/",
     "height": 136
    },
    "colab_type": "code",
    "id": "S1E5d87nEAEe",
    "outputId": "f83dac08-44ac-4e5b-b8f5-3173e7ab48cf"
   },
   "outputs": [
    {
     "name": "stderr",
     "output_type": "stream",
     "text": [
      "/Users/djiby/opt/anaconda3/envs/2021-4A-IABD-2_tf/lib/python3.8/site-packages/pandas/core/frame.py:4441: SettingWithCopyWarning: \n",
      "A value is trying to be set on a copy of a slice from a DataFrame\n",
      "\n",
      "See the caveats in the documentation: https://pandas.pydata.org/pandas-docs/stable/user_guide/indexing.html#returning-a-view-versus-a-copy\n",
      "  return super().rename(\n"
     ]
    }
   ],
   "source": [
    "confirmed_cases.rename(columns={\"Date\":\"ds\",\"Confirmed\":\"y\"},inplace=True)"
   ]
  },
  {
   "cell_type": "code",
   "execution_count": 24,
   "metadata": {
    "colab": {},
    "colab_type": "code",
    "id": "wMz-4l14ECyN"
   },
   "outputs": [],
   "source": [
    "train = confirmed_cases[:12]\n",
    "test = confirmed_cases[12:]"
   ]
  },
  {
   "cell_type": "code",
   "execution_count": 25,
   "metadata": {
    "colab": {
     "base_uri": "https://localhost:8080/",
     "height": 1000
    },
    "colab_type": "code",
    "id": "rE_HeYR1EMlz",
    "outputId": "3acd5645-bfff-4962-b7be-f9f237070bfc"
   },
   "outputs": [
    {
     "data": {
      "text/html": [
       "<div>\n",
       "<style scoped>\n",
       "    .dataframe tbody tr th:only-of-type {\n",
       "        vertical-align: middle;\n",
       "    }\n",
       "\n",
       "    .dataframe tbody tr th {\n",
       "        vertical-align: top;\n",
       "    }\n",
       "\n",
       "    .dataframe thead th {\n",
       "        text-align: right;\n",
       "    }\n",
       "</style>\n",
       "<table border=\"1\" class=\"dataframe\">\n",
       "  <thead>\n",
       "    <tr style=\"text-align: right;\">\n",
       "      <th></th>\n",
       "      <th>ds</th>\n",
       "      <th>y</th>\n",
       "    </tr>\n",
       "  </thead>\n",
       "  <tbody>\n",
       "    <tr>\n",
       "      <th>0</th>\n",
       "      <td>1/1/21</td>\n",
       "      <td>2697014</td>\n",
       "    </tr>\n",
       "    <tr>\n",
       "      <th>1</th>\n",
       "      <td>1/10/21</td>\n",
       "      <td>2840864</td>\n",
       "    </tr>\n",
       "    <tr>\n",
       "      <th>2</th>\n",
       "      <td>1/11/21</td>\n",
       "      <td>2844680</td>\n",
       "    </tr>\n",
       "    <tr>\n",
       "      <th>3</th>\n",
       "      <td>1/12/21</td>\n",
       "      <td>2864360</td>\n",
       "    </tr>\n",
       "    <tr>\n",
       "      <th>4</th>\n",
       "      <td>1/13/21</td>\n",
       "      <td>2888292</td>\n",
       "    </tr>\n",
       "    <tr>\n",
       "      <th>5</th>\n",
       "      <td>1/14/21</td>\n",
       "      <td>2909723</td>\n",
       "    </tr>\n",
       "    <tr>\n",
       "      <th>6</th>\n",
       "      <td>1/15/21</td>\n",
       "      <td>2931040</td>\n",
       "    </tr>\n",
       "    <tr>\n",
       "      <th>7</th>\n",
       "      <td>1/16/21</td>\n",
       "      <td>2952449</td>\n",
       "    </tr>\n",
       "    <tr>\n",
       "      <th>8</th>\n",
       "      <td>1/17/21</td>\n",
       "      <td>2969091</td>\n",
       "    </tr>\n",
       "    <tr>\n",
       "      <th>9</th>\n",
       "      <td>1/18/21</td>\n",
       "      <td>2972889</td>\n",
       "    </tr>\n",
       "    <tr>\n",
       "      <th>10</th>\n",
       "      <td>1/19/21</td>\n",
       "      <td>2996784</td>\n",
       "    </tr>\n",
       "    <tr>\n",
       "      <th>11</th>\n",
       "      <td>1/2/21</td>\n",
       "      <td>2700480</td>\n",
       "    </tr>\n",
       "  </tbody>\n",
       "</table>\n",
       "</div>"
      ],
      "text/plain": [
       "         ds        y\n",
       "0    1/1/21  2697014\n",
       "1   1/10/21  2840864\n",
       "2   1/11/21  2844680\n",
       "3   1/12/21  2864360\n",
       "4   1/13/21  2888292\n",
       "5   1/14/21  2909723\n",
       "6   1/15/21  2931040\n",
       "7   1/16/21  2952449\n",
       "8   1/17/21  2969091\n",
       "9   1/18/21  2972889\n",
       "10  1/19/21  2996784\n",
       "11   1/2/21  2700480"
      ]
     },
     "execution_count": 25,
     "metadata": {},
     "output_type": "execute_result"
    }
   ],
   "source": [
    "train "
   ]
  },
  {
   "cell_type": "code",
   "execution_count": 26,
   "metadata": {
    "colab": {
     "base_uri": "https://localhost:8080/",
     "height": 111
    },
    "colab_type": "code",
    "id": "_EVbLNIZEtLp",
    "outputId": "f60d3924-523c-4059-fab6-32384dc8393a"
   },
   "outputs": [
    {
     "data": {
      "text/html": [
       "<div>\n",
       "<style scoped>\n",
       "    .dataframe tbody tr th:only-of-type {\n",
       "        vertical-align: middle;\n",
       "    }\n",
       "\n",
       "    .dataframe tbody tr th {\n",
       "        vertical-align: top;\n",
       "    }\n",
       "\n",
       "    .dataframe thead th {\n",
       "        text-align: right;\n",
       "    }\n",
       "</style>\n",
       "<table border=\"1\" class=\"dataframe\">\n",
       "  <thead>\n",
       "    <tr style=\"text-align: right;\">\n",
       "      <th></th>\n",
       "      <th>ds</th>\n",
       "      <th>y</th>\n",
       "    </tr>\n",
       "  </thead>\n",
       "  <tbody>\n",
       "    <tr>\n",
       "      <th>12</th>\n",
       "      <td>1/20/21</td>\n",
       "      <td>3023661</td>\n",
       "    </tr>\n",
       "    <tr>\n",
       "      <th>13</th>\n",
       "      <td>1/21/21</td>\n",
       "      <td>3046371</td>\n",
       "    </tr>\n",
       "    <tr>\n",
       "      <th>14</th>\n",
       "      <td>1/22/20</td>\n",
       "      <td>0</td>\n",
       "    </tr>\n",
       "    <tr>\n",
       "      <th>15</th>\n",
       "      <td>1/22/21</td>\n",
       "      <td>3069695</td>\n",
       "    </tr>\n",
       "    <tr>\n",
       "      <th>16</th>\n",
       "      <td>1/23/20</td>\n",
       "      <td>0</td>\n",
       "    </tr>\n",
       "    <tr>\n",
       "      <th>...</th>\n",
       "      <td>...</td>\n",
       "      <td>...</td>\n",
       "    </tr>\n",
       "    <tr>\n",
       "      <th>540</th>\n",
       "      <td>9/5/20</td>\n",
       "      <td>357927</td>\n",
       "    </tr>\n",
       "    <tr>\n",
       "      <th>541</th>\n",
       "      <td>9/6/20</td>\n",
       "      <td>364943</td>\n",
       "    </tr>\n",
       "    <tr>\n",
       "      <th>542</th>\n",
       "      <td>9/7/20</td>\n",
       "      <td>369209</td>\n",
       "    </tr>\n",
       "    <tr>\n",
       "      <th>543</th>\n",
       "      <td>9/8/20</td>\n",
       "      <td>375947</td>\n",
       "    </tr>\n",
       "    <tr>\n",
       "      <th>544</th>\n",
       "      <td>9/9/20</td>\n",
       "      <td>384566</td>\n",
       "    </tr>\n",
       "  </tbody>\n",
       "</table>\n",
       "<p>533 rows × 2 columns</p>\n",
       "</div>"
      ],
      "text/plain": [
       "          ds        y\n",
       "12   1/20/21  3023661\n",
       "13   1/21/21  3046371\n",
       "14   1/22/20        0\n",
       "15   1/22/21  3069695\n",
       "16   1/23/20        0\n",
       "..       ...      ...\n",
       "540   9/5/20   357927\n",
       "541   9/6/20   364943\n",
       "542   9/7/20   369209\n",
       "543   9/8/20   375947\n",
       "544   9/9/20   384566\n",
       "\n",
       "[533 rows x 2 columns]"
      ]
     },
     "execution_count": 26,
     "metadata": {},
     "output_type": "execute_result"
    }
   ],
   "source": [
    "test"
   ]
  },
  {
   "cell_type": "code",
   "execution_count": 27,
   "metadata": {
    "colab": {
     "base_uri": "https://localhost:8080/",
     "height": 68
    },
    "colab_type": "code",
    "id": "yob4VpuPFZ8r",
    "outputId": "ddbe025a-4165-465a-dd6e-e0c38a091cd4"
   },
   "outputs": [
    {
     "name": "stderr",
     "output_type": "stream",
     "text": [
      "INFO:fbprophet:Disabling yearly seasonality. Run prophet with yearly_seasonality=True to override this.\n",
      "INFO:fbprophet:Disabling daily seasonality. Run prophet with daily_seasonality=True to override this.\n",
      "INFO:fbprophet:n_changepoints greater than number of observations. Using 8.\n"
     ]
    },
    {
     "data": {
      "text/plain": [
       "<fbprophet.forecaster.Prophet at 0x7fefdd7fc6a0>"
      ]
     },
     "execution_count": 27,
     "metadata": {},
     "output_type": "execute_result"
    }
   ],
   "source": [
    "# Fit Model\n",
    "m.fit(train)"
   ]
  },
  {
   "cell_type": "code",
   "execution_count": 28,
   "metadata": {
    "colab": {},
    "colab_type": "code",
    "id": "EpG_M7PKFTXp"
   },
   "outputs": [],
   "source": [
    "# Future Date\n",
    "future_dates = m.make_future_dataframe(periods=200)"
   ]
  },
  {
   "cell_type": "code",
   "execution_count": 29,
   "metadata": {
    "colab": {
     "base_uri": "https://localhost:8080/",
     "height": 419
    },
    "colab_type": "code",
    "id": "G5EvwJOoFd3R",
    "outputId": "d251cda5-720b-4ec6-ecb0-78119d2b948b"
   },
   "outputs": [
    {
     "data": {
      "text/html": [
       "<div>\n",
       "<style scoped>\n",
       "    .dataframe tbody tr th:only-of-type {\n",
       "        vertical-align: middle;\n",
       "    }\n",
       "\n",
       "    .dataframe tbody tr th {\n",
       "        vertical-align: top;\n",
       "    }\n",
       "\n",
       "    .dataframe thead th {\n",
       "        text-align: right;\n",
       "    }\n",
       "</style>\n",
       "<table border=\"1\" class=\"dataframe\">\n",
       "  <thead>\n",
       "    <tr style=\"text-align: right;\">\n",
       "      <th></th>\n",
       "      <th>ds</th>\n",
       "    </tr>\n",
       "  </thead>\n",
       "  <tbody>\n",
       "    <tr>\n",
       "      <th>0</th>\n",
       "      <td>2021-01-01</td>\n",
       "    </tr>\n",
       "    <tr>\n",
       "      <th>1</th>\n",
       "      <td>2021-01-02</td>\n",
       "    </tr>\n",
       "    <tr>\n",
       "      <th>2</th>\n",
       "      <td>2021-01-10</td>\n",
       "    </tr>\n",
       "    <tr>\n",
       "      <th>3</th>\n",
       "      <td>2021-01-11</td>\n",
       "    </tr>\n",
       "    <tr>\n",
       "      <th>4</th>\n",
       "      <td>2021-01-12</td>\n",
       "    </tr>\n",
       "    <tr>\n",
       "      <th>...</th>\n",
       "      <td>...</td>\n",
       "    </tr>\n",
       "    <tr>\n",
       "      <th>207</th>\n",
       "      <td>2021-08-03</td>\n",
       "    </tr>\n",
       "    <tr>\n",
       "      <th>208</th>\n",
       "      <td>2021-08-04</td>\n",
       "    </tr>\n",
       "    <tr>\n",
       "      <th>209</th>\n",
       "      <td>2021-08-05</td>\n",
       "    </tr>\n",
       "    <tr>\n",
       "      <th>210</th>\n",
       "      <td>2021-08-06</td>\n",
       "    </tr>\n",
       "    <tr>\n",
       "      <th>211</th>\n",
       "      <td>2021-08-07</td>\n",
       "    </tr>\n",
       "  </tbody>\n",
       "</table>\n",
       "<p>212 rows × 1 columns</p>\n",
       "</div>"
      ],
      "text/plain": [
       "            ds\n",
       "0   2021-01-01\n",
       "1   2021-01-02\n",
       "2   2021-01-10\n",
       "3   2021-01-11\n",
       "4   2021-01-12\n",
       "..         ...\n",
       "207 2021-08-03\n",
       "208 2021-08-04\n",
       "209 2021-08-05\n",
       "210 2021-08-06\n",
       "211 2021-08-07\n",
       "\n",
       "[212 rows x 1 columns]"
      ]
     },
     "execution_count": 29,
     "metadata": {},
     "output_type": "execute_result"
    }
   ],
   "source": [
    "future_dates\n"
   ]
  },
  {
   "cell_type": "code",
   "execution_count": 30,
   "metadata": {
    "colab": {},
    "colab_type": "code",
    "id": "kAhJBDLYF2Cm"
   },
   "outputs": [],
   "source": [
    "# Prediction\n",
    "prediction =  m.predict(future_dates)"
   ]
  },
  {
   "cell_type": "code",
   "execution_count": 31,
   "metadata": {
    "colab": {
     "base_uri": "https://localhost:8080/",
     "height": 865
    },
    "colab_type": "code",
    "id": "WESaN0-AGBt1",
    "outputId": "318ccc9e-ab62-4f42-b755-ff949c0f0310",
    "scrolled": true
   },
   "outputs": [
    {
     "data": {
      "image/png": "[encoded data removed]",
      "text/plain": [
       "<Figure size 720x432 with 1 Axes>"
      ]
     },
     "execution_count": 31,
     "metadata": {},
     "output_type": "execute_result"
    },
    {
     "data": {
      "image/png": "[encoded data removed]",
      "text/plain": [
       "<Figure size 720x432 with 1 Axes>"
      ]
     },
     "metadata": {},
     "output_type": "display_data"
    }
   ],
   "source": [
    "# Plot Prediction\n",
    "m.plot(prediction)"
   ]
  },
  {
   "cell_type": "code",
   "execution_count": 32,
   "metadata": {
    "colab": {},
    "colab_type": "code",
    "id": "8akOWkqQPDtn"
   },
   "outputs": [],
   "source": [
    "# Find Point/Dates For Change\n",
    "from fbprophet.plot import add_changepoints_to_plot"
   ]
  },
  {
   "cell_type": "code",
   "execution_count": 33,
   "metadata": {
    "colab": {
     "base_uri": "https://localhost:8080/",
     "height": 441
    },
    "colab_type": "code",
    "id": "lWUdJyGBPEyy",
    "outputId": "2adae611-0285-4ab3-9dbb-4ecf11af6bca",
    "scrolled": false
   },
   "outputs": [
    {
     "data": {
      "image/png": "[encoded data removed]",
      "text/plain": [
       "<Figure size 720x432 with 1 Axes>"
      ]
     },
     "metadata": {},
     "output_type": "display_data"
    }
   ],
   "source": [
    "fig = m.plot(prediction)\n",
    "c = add_changepoints_to_plot(fig.gca(),m,prediction)"
   ]
  },
  {
   "cell_type": "code",
   "execution_count": null,
   "metadata": {},
   "outputs": [],
   "source": []
  }
 ],
 "metadata": {
  "colab": {
   "collapsed_sections": [],
   "name": "Coronavirus Forecasting for USA.ipynb",
   "provenance": []
  },
  "kernelspec": {
   "display_name": "PyCharm (covid-19-master)",
   "language": "python",
   "name": "pycharm-ad63ff57"
  },
  "language_info": {
   "codemirror_mode": {
    "name": "ipython",
    "version": 3
   },
   "file_extension": ".py",
   "mimetype": "text/x-python",
   "name": "python",
   "nbconvert_exporter": "python",
   "pygments_lexer": "ipython3",
   "version": "3.8.5"
  }
 },
 "nbformat": 4,
 "nbformat_minor": 1
}
